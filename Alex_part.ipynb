{
 "cells": [
  {
   "cell_type": "code",
   "execution_count": 68,
   "metadata": {
    "collapsed": true,
    "pycharm": {
     "is_executing": false
    }
   },
   "outputs": [],
   "source": [
    "import pandas as pd\n",
    "\n",
    "movies = pd.read_excel('dev_set_groundtruth_and_trailers.xls',index_col='filename')\n"
   ]
  },
  {
   "cell_type": "code",
   "execution_count": 69,
   "outputs": [],
   "source": [
    "import os\n",
    "import xml.etree.cElementTree as et\n",
    "\n",
    "for filename in os.listdir('XML'):\n",
    "    tree = et.parse('XML/'+filename)\n",
    "    root = tree.getroot()\n",
    "    metadata = root[0]\n",
    "    \n",
    "    for i in metadata.attrib:\n",
    "        movies.loc[filename[:-4],i] = metadata.get(i)"
   ],
   "metadata": {
    "collapsed": false,
    "pycharm": {
     "name": "#%%\n",
     "is_executing": false
    }
   }
  },
  {
   "cell_type": "code",
   "execution_count": 70,
   "outputs": [],
   "source": [
    "movies.drop(['Website','imdbID','poster','tomatoConsensus','trailer','writer','DVD','plot'], axis=1, inplace=True)\n",
    "#TODO: Implement solutions for this:\n",
    "movies.drop(['tomatoImage','released','year','awards','runtime','title'], axis=1, inplace=True)"
   ],
   "metadata": {
    "collapsed": false,
    "pycharm": {
     "name": "#%%\n",
     "is_executing": false
    }
   }
  },
  {
   "cell_type": "code",
   "execution_count": 71,
   "outputs": [],
   "source": [
    "movies[['BoxOffice']] = movies[['BoxOffice']].replace('[\\$,.]','',regex=True)\n",
    "movies[['BoxOffice']] = movies[['BoxOffice']].replace(to_replace='M',value='00000',regex=True)\n",
    "movies[['BoxOffice']] = movies[['BoxOffice']].replace(to_replace='k',value='00',regex=True)\n",
    "movies[['BoxOffice']] = movies[['BoxOffice']].replace('N/A','NaN').astype(float)\n"
   ],
   "metadata": {
    "collapsed": false,
    "pycharm": {
     "name": "#%%\n",
     "is_executing": false
    }
   }
  },
  {
   "cell_type": "code",
   "execution_count": 72,
   "outputs": [],
   "source": [
    "movies['imdbRating'] = movies['imdbRating'].astype(float)\n",
    "movies['imdbVotes'] = movies['imdbVotes'].replace('[,]','',regex=True).astype(float)\n",
    "movies = movies.replace('N/A','NaN')\n"
   ],
   "metadata": {
    "collapsed": false,
    "pycharm": {
     "name": "#%%\n",
     "is_executing": false
    }
   }
  },
  {
   "cell_type": "code",
   "execution_count": 73,
   "outputs": [],
   "source": [
    "import numpy as np\n",
    "\n",
    "def oneHotEncodeMultipleValuesInOneEntry(column_name):\n",
    "\n",
    "    temp = set()\n",
    "    \n",
    "    def getPossibleValues(input_string, output_set):\n",
    "        cur = input_string.split(', ')\n",
    "        for i in cur:\n",
    "            output_set.add(i)\n",
    "    \n",
    "    movies[[column_name]].applymap(lambda x: getPossibleValues(x,temp))\n",
    "    \n",
    "    for i in temp:\n",
    "        movies[i] = np.zeros(95)\n",
    "        \n",
    "    counter = 0\n",
    "    for i in movies.loc[:,column_name]:\n",
    "        cur = i.split(', ')\n",
    "        for j in cur:\n",
    "            movies.ix[counter,j] += 1\n",
    "        counter += 1"
   ],
   "metadata": {
    "collapsed": false,
    "pycharm": {
     "name": "#%%\n",
     "is_executing": false
    }
   }
  },
  {
   "cell_type": "code",
   "execution_count": 74,
   "outputs": [
    {
     "name": "stderr",
     "text": [
      "C:\\ProgramData\\Anaconda3\\envs\\Experimental_Design_for_Data_Science\\lib\\site-packages\\ipykernel_launcher.py:21: FutureWarning: \n",
      ".ix is deprecated. Please use\n",
      ".loc for label based indexing or\n",
      ".iloc for positional indexing\n",
      "\n",
      "See the documentation here:\n",
      "http://pandas.pydata.org/pandas-docs/stable/user_guide/indexing.html#ix-indexer-is-deprecated\n",
      "C:\\ProgramData\\Anaconda3\\envs\\Experimental_Design_for_Data_Science\\lib\\site-packages\\pandas\\core\\indexing.py:961: FutureWarning: \n",
      ".ix is deprecated. Please use\n",
      ".loc for label based indexing or\n",
      ".iloc for positional indexing\n",
      "\n",
      "See the documentation here:\n",
      "http://pandas.pydata.org/pandas-docs/stable/user_guide/indexing.html#ix-indexer-is-deprecated\n",
      "  return getattr(section, self.name)[new_key]\n"
     ],
     "output_type": "stream"
    }
   ],
   "source": [
    "oneHotEncodeMultipleValuesInOneEntry('country')\n",
    "oneHotEncodeMultipleValuesInOneEntry('actors')\n",
    "oneHotEncodeMultipleValuesInOneEntry('genre')\n",
    "oneHotEncodeMultipleValuesInOneEntry('director')\n",
    "oneHotEncodeMultipleValuesInOneEntry('type')\n",
    "oneHotEncodeMultipleValuesInOneEntry('rated')\n",
    "oneHotEncodeMultipleValuesInOneEntry('language')\n",
    "oneHotEncodeMultipleValuesInOneEntry('Production')\n",
    "\n",
    "\n",
    "movies.drop(['actors','country','genre','director','type','rated','language','Production'], axis=1, inplace=True)"
   ],
   "metadata": {
    "collapsed": false,
    "pycharm": {
     "name": "#%%\n",
     "is_executing": false
    }
   }
  },
  {
   "cell_type": "code",
   "execution_count": 75,
   "outputs": [],
   "source": [
    "movies = movies.astype(float)\n"
   ],
   "metadata": {
    "collapsed": false,
    "pycharm": {
     "name": "#%%\n",
     "is_executing": false
    }
   }
  }
 ],
 "metadata": {
  "kernelspec": {
   "display_name": "Python 3",
   "language": "python",
   "name": "python3"
  },
  "language_info": {
   "codemirror_mode": {
    "name": "ipython",
    "version": 2
   },
   "file_extension": ".py",
   "mimetype": "text/x-python",
   "name": "python",
   "nbconvert_exporter": "python",
   "pygments_lexer": "ipython2",
   "version": "2.7.6"
  },
  "pycharm": {
   "stem_cell": {
    "cell_type": "raw",
    "source": [],
    "metadata": {
     "collapsed": false
    }
   }
  }
 },
 "nbformat": 4,
 "nbformat_minor": 0
}