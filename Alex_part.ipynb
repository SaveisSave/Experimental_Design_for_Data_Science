{
 "cells": [
  {
   "cell_type": "code",
   "execution_count": 1,
   "metadata": {
    "collapsed": true,
    "pycharm": {
     "is_executing": false
    }
   },
   "outputs": [],
   "source": [
    "import pandas as pd\n",
    "\n",
    "movies = pd.read_excel('dev_set_groundtruth_and_trailers.xls',index_col='filename')\n"
   ]
  },
  {
   "cell_type": "code",
   "execution_count": 2,
   "outputs": [],
   "source": [
    "import os\n",
    "import numpy as np\n",
    "import xml.etree.cElementTree as et\n",
    "\n",
    "for filename in os.listdir('XML'):\n",
    "    tree = et.parse('XML/'+filename)\n",
    "    root = tree.getroot()\n",
    "    tmp = root[0]\n",
    "    \n",
    "    for i in tmp.attrib:\n",
    "        movies.loc[filename[:-4],i] = tmp.get(i)"
   ],
   "metadata": {
    "collapsed": false,
    "pycharm": {
     "name": "#%%\n",
     "is_executing": false
    }
   }
  },
  {
   "cell_type": "code",
   "execution_count": 3,
   "outputs": [],
   "source": [
    "movies.drop(['released','Website','imdbID','poster','tomatoConsensus','trailer','writer','DVD','plot','title','awards'], axis=1, inplace=True)"
   ],
   "metadata": {
    "collapsed": false,
    "pycharm": {
     "name": "#%%\n",
     "is_executing": false
    }
   }
  },
  {
   "cell_type": "code",
   "execution_count": 4,
   "outputs": [],
   "source": [
    "# NOT REQUIRED\n",
    "\n",
    "#movies[['BoxOffice']] = movies[['BoxOffice']].replace('[\\$,.]','',regex=True)\n",
    "#movies[['BoxOffice']] = movies[['BoxOffice']].replace(to_replace='M',value='00000',regex=True)\n",
    "#movies[['BoxOffice']] = movies[['BoxOffice']].replace(to_replace='k',value='00',regex=True)\n",
    "#movies[['BoxOffice']] = movies[['BoxOffice']].replace('N/A','NaN').astype(np.float)\n",
    "\n"
   ],
   "metadata": {
    "collapsed": false,
    "pycharm": {
     "name": "#%%\n",
     "is_executing": false
    }
   }
  },
  {
   "cell_type": "code",
   "execution_count": 5,
   "outputs": [],
   "source": [
    "movies['imdbRating'] = movies['imdbRating'].astype(np.float)\n",
    "movies['imdbVotes'] = movies['imdbVotes'].replace('[,]','',regex=True).astype(float)\n",
    "movies['runtime'] = movies['runtime'].replace('[\\smin]','',regex=True).astype(float)\n",
    "movies = movies.replace('N/A','NaN')\n",
    "movies['rated'] = movies['rated'].replace('NaN','NOT RATED')\n",
    "movies['year'] = movies['year'].astype(float)\n",
    "movies['metascore'] = movies['metascore'].astype(float)\n",
    "movies['tomatoRating'] = movies['tomatoRating'].astype(float)\n",
    "movies['tomatoUserRating'] = movies['tomatoUserRating'].astype(float)\n",
    "movies['tomatoMeter'] = movies['tomatoMeter'].astype(float)\n",
    "movies['tomatoUserMeter'] = movies['tomatoUserMeter'].astype(float)\n",
    "\n"
   ],
   "metadata": {
    "collapsed": false,
    "pycharm": {
     "name": "#%%\n",
     "is_executing": false
    }
   }
  },
  {
   "cell_type": "code",
   "execution_count": 6,
   "outputs": [],
   "source": [
    "movies.fillna(0,inplace=True)"
   ],
   "metadata": {
    "collapsed": false,
    "pycharm": {
     "name": "#%%\n",
     "is_executing": false
    }
   }
  },
  {
   "cell_type": "code",
   "execution_count": 7,
   "outputs": [],
   "source": [
    "metadata = movies[['language','year','genre','country','runtime','rated']]\n",
    "userrating = movies[['imdbRating','metascore','tomatoRating','tomatoUserRating','tomatoMeter','tomatoUserMeter']]\n",
    "meta_and_user = movies[['language','year','genre','country','runtime','rated','imdbRating','metascore','tomatoRating',\n",
    "                       'tomatoUserRating','tomatoMeter','tomatoUserMeter']]"
   ],
   "metadata": {
    "collapsed": false,
    "pycharm": {
     "name": "#%%\n",
     "is_executing": false
    }
   }
  },
  {
   "cell_type": "code",
   "execution_count": 8,
   "outputs": [
    {
     "name": "stderr",
     "text": [
      "C:\\Users\\alexa\\PycharmProjects\\Experimental_Design_for_Data_Science\\Encoding.py:18: SettingWithCopyWarning: \n",
      "A value is trying to be set on a copy of a slice from a DataFrame.\n",
      "Try using .loc[row_indexer,col_indexer] = value instead\n",
      "\n",
      "See the caveats in the documentation: http://pandas.pydata.org/pandas-docs/stable/user_guide/indexing.html#returning-a-view-versus-a-copy\n",
      "  dataframe[i] = np.zeros(95)\n",
      "C:\\Users\\alexa\\PycharmProjects\\Experimental_Design_for_Data_Science\\Encoding.py:25: FutureWarning: \n",
      ".ix is deprecated. Please use\n",
      ".loc for label based indexing or\n",
      ".iloc for positional indexing\n",
      "\n",
      "See the documentation here:\n",
      "http://pandas.pydata.org/pandas-docs/stable/user_guide/indexing.html#ix-indexer-is-deprecated\n",
      "  dataframe.ix[counter, j] += 1\n",
      "C:\\ProgramData\\Anaconda3\\envs\\Experimental_Design_for_Data_Science\\lib\\site-packages\\pandas\\core\\indexing.py:961: FutureWarning: \n",
      ".ix is deprecated. Please use\n",
      ".loc for label based indexing or\n",
      ".iloc for positional indexing\n",
      "\n",
      "See the documentation here:\n",
      "http://pandas.pydata.org/pandas-docs/stable/user_guide/indexing.html#ix-indexer-is-deprecated\n",
      "  return getattr(section, self.name)[new_key]\n"
     ],
     "output_type": "stream"
    }
   ],
   "source": [
    "import Encoding as enc\n",
    "\n",
    "enc.one_hot_encode(metadata,'language',True)\n",
    "enc.one_hot_encode(metadata,'genre',True)\n",
    "enc.one_hot_encode(metadata, 'country',True)\n",
    "enc.one_hot_encode(metadata, 'rated',True)\n",
    "\n",
    "metadata.drop(['language','country','rated','genre'], axis=1, inplace=True)"
   ],
   "metadata": {
    "collapsed": false,
    "pycharm": {
     "name": "#%%\n",
     "is_executing": false
    }
   }
  },
  {
   "cell_type": "code",
   "execution_count": 9,
   "outputs": [],
   "source": [
    "enc.one_hot_encode(meta_and_user,'language',True)\n",
    "enc.one_hot_encode(meta_and_user, 'country',True)\n",
    "enc.one_hot_encode(meta_and_user, 'genre',True)\n",
    "enc.one_hot_encode(meta_and_user, 'rated',True)\n",
    "\n",
    "meta_and_user.drop(['language','country','rated','genre'], axis=1, inplace=True)"
   ],
   "metadata": {
    "collapsed": false,
    "pycharm": {
     "name": "#%%\n",
     "is_executing": false
    }
   }
  },
  {
   "cell_type": "code",
   "execution_count": 10,
   "outputs": [],
   "source": [
    "from sklearn.neighbors import KNeighborsClassifier\n",
    "from sklearn.neighbors import NearestCentroid\n",
    "from sklearn.tree import DecisionTreeClassifier\n",
    "from sklearn.linear_model import LogisticRegression\n",
    "from sklearn.svm import SVC\n",
    "from sklearn.ensemble import BaggingClassifier\n",
    "from sklearn.ensemble import RandomForestClassifier\n",
    "from sklearn.ensemble import AdaBoostClassifier\n",
    "from sklearn.ensemble import GradientBoostingClassifier\n",
    "from sklearn.naive_bayes import GaussianNB\n",
    "\n",
    "knn = KNeighborsClassifier(n_neighbors=5, weights='uniform', algorithm='auto', leaf_size=30, p=2, metric='minkowski',\n",
    "                           metric_params=None,n_jobs=-1)\n",
    "nc = NearestCentroid(metric='euclidean', shrink_threshold=None)\n",
    "tree = DecisionTreeClassifier(criterion='gini', splitter='best', max_depth=None, min_samples_split=2, min_samples_leaf=1,\n",
    "                              min_weight_fraction_leaf=0.0, max_features=None, random_state=6, max_leaf_nodes=None,\n",
    "                              class_weight=None, presort=False)\n",
    "log = LogisticRegression(penalty='l2', dual=False, tol=0.0001, C=1.0, fit_intercept=True, intercept_scaling=1,\n",
    "                         class_weight=None, random_state=6, solver='liblinear', max_iter=100, multi_class='ovr', \n",
    "                         verbose=0, warm_start=False, n_jobs=-1)\n",
    "svm = SVC(C=1.0, kernel='rbf', degree=3, gamma='auto', coef0=0.0, shrinking=True, probability=False, tol=0.001, \n",
    "          cache_size=200, class_weight=None, verbose=False, max_iter=-1, decision_function_shape=None, random_state=6)\n",
    "bag = BaggingClassifier(base_estimator=None, n_estimators=10, max_samples=1.0, max_features=1.0, bootstrap=True, \n",
    "                        bootstrap_features=False, oob_score=False, warm_start=False, n_jobs=-1, random_state=1, verbose=0)\n",
    "rf = RandomForestClassifier(n_estimators=10, criterion='gini', max_depth=None, min_samples_split=2, min_samples_leaf=1, \n",
    "                            min_weight_fraction_leaf=0.0, max_features='auto', max_leaf_nodes=None, bootstrap=True, \n",
    "                            oob_score=False, n_jobs=-1, random_state=4, verbose=0, warm_start=False, class_weight=None)\n",
    "ada = AdaBoostClassifier(base_estimator=None, n_estimators=50, learning_rate=1.0, algorithm='SAMME.R', random_state=6)\n",
    "gb = GradientBoostingClassifier(loss='deviance', learning_rate=0.1, n_estimators=100, subsample=1.0, min_samples_split=2,\n",
    "                                min_samples_leaf=1, min_weight_fraction_leaf=0.0, max_depth=3, init=None, random_state=6,\n",
    "                                max_features=None, verbose=0, max_leaf_nodes=None, warm_start=False, presort='auto')\n",
    "gauss = GaussianNB()"
   ],
   "metadata": {
    "collapsed": false,
    "pycharm": {
     "name": "#%%\n",
     "is_executing": false
    }
   }
  },
  {
   "cell_type": "code",
   "execution_count": 11,
   "outputs": [
    {
     "name": "stdout",
     "text": [
      "Precision: 0.5956349206349205, Recall: 0.6366666666666666, f1: 0.5642607392607393\n",
      "Precision: 0.5595238095238094, Recall: 0.5366666666666666, f1: 0.5382478632478632\n",
      "Precision: 0.511904761904762, Recall: 0.6033333333333333, f1: 0.5236541236541237\n",
      "Precision: 0.5125, Recall: 0.56, f1: 0.5244599844599845\n",
      "Precision: 0.4950396825396826, Recall: 0.6933333333333334, f1: 0.5606776556776557\n",
      "Precision: 0.5125, Recall: 0.4666666666666667, f1: 0.46663170163170165\n",
      "Precision: 0.4966666666666667, Recall: 0.4066666666666666, f1: 0.41601731601731595\n",
      "Precision: 0.5049206349206349, Recall: 0.5233333333333333, f1: 0.4861754911754912\n",
      "Precision: 0.48908730158730157, Recall: 0.56, f1: 0.5094194694194694\n",
      "Precision: 0.45, Recall: 0.13333333333333336, f1: 0.19523809523809527\n"
     ],
     "output_type": "stream"
    }
   ],
   "source": [
    "from sklearn.model_selection import cross_val_score\n",
    "\n",
    "algo_pool = [knn,nc,tree,log,svm,bag,rf,ada,gb,gauss]\n",
    "algo_to_use = []\n",
    "\n",
    "for i in algo_pool:\n",
    "    f1 = np.mean(cross_val_score(estimator=i,X=metadata,y=movies.loc[:,'goodforairplane'],\n",
    "                         scoring='f1',cv=10,n_jobs=-1))\n",
    "    precision = np.mean(cross_val_score(estimator=i,X=metadata,y=movies.loc[:,'goodforairplane'],\n",
    "                         scoring='precision',cv=10,n_jobs=-1))\n",
    "    recall = np.mean(cross_val_score(estimator=i,X=metadata,y=movies.loc[:,'goodforairplane'],\n",
    "                         scoring='recall',cv=10,n_jobs=-1))\n",
    "    print(f'Precision: {precision}, Recall: {recall}, f1: {f1}')\n",
    "    if f1 > 0.5 and precision > 0.5 and recall > 0.5:\n",
    "        algo_to_use.append(i)\n",
    "        "
   ],
   "metadata": {
    "collapsed": false,
    "pycharm": {
     "name": "#%%\n",
     "is_executing": false
    }
   }
  },
  {
   "cell_type": "code",
   "execution_count": null,
   "outputs": [],
   "source": [
    "import LVW\n",
    "\n",
    "print(LVW.lvw(meta_and_user,movies.loc[:,'goodforairplane'],80,0.))"
   ],
   "metadata": {
    "collapsed": false,
    "pycharm": {
     "name": "#%%\n",
     "is_executing": true
    }
   }
  },
  {
   "cell_type": "code",
   "execution_count": null,
   "outputs": [],
   "source": [
    "print(LVW.lvw(meta_and_user,movies.loc[:,'goodforairplane'],80,0.))"
   ],
   "metadata": {
    "collapsed": false,
    "pycharm": {
     "name": "#%%\n",
     "is_executing": true
    }
   }
  },
  {
   "cell_type": "code",
   "execution_count": null,
   "outputs": [],
   "source": [
    "print(LVW.lvw(meta_and_user,movies.loc[:,'goodforairplane'],80,0.))"
   ],
   "metadata": {
    "collapsed": false,
    "pycharm": {
     "name": "#%%\n",
     "is_executing": true
    }
   }
  },
  {
   "cell_type": "code",
   "execution_count": null,
   "outputs": [],
   "source": [
    "print(LVW.lvw(movies.drop(['goodforairplane','imdbVotes','tomatoUserReviews','tomatoFresh'],axis=1),movies.loc[:,'goodforairplane'],94,0.))\n"
   ],
   "metadata": {
    "collapsed": false,
    "pycharm": {
     "name": "#%%\n",
     "is_executing": true
    }
   }
  }
 ],
 "metadata": {
  "kernelspec": {
   "display_name": "Python 3",
   "language": "python",
   "name": "python3"
  },
  "language_info": {
   "codemirror_mode": {
    "name": "ipython",
    "version": 2
   },
   "file_extension": ".py",
   "mimetype": "text/x-python",
   "name": "python",
   "nbconvert_exporter": "python",
   "pygments_lexer": "ipython2",
   "version": "2.7.6"
  },
  "pycharm": {
   "stem_cell": {
    "cell_type": "raw",
    "source": [],
    "metadata": {
     "collapsed": false
    }
   }
  }
 },
 "nbformat": 4,
 "nbformat_minor": 0
}