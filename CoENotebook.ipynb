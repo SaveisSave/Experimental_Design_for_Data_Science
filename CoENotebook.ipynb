{
 "cells": [
  {
   "cell_type": "code",
   "execution_count": 2,
   "outputs": [
    {
     "name": "stdout",
     "text": [
      "                                      0         1         2         3    \\\n",
      "filename                                                                  \n",
      "American_Gangster                0.231640  0.286290  0.300680  0.281180   \n",
      "American_Pie                     0.240415  0.235935  0.234660  0.256405   \n",
      "Andaz_Apna_Apna                  0.000000  0.294340  0.290235  0.011366   \n",
      "Anna_Karenina                    0.000000  0.000000  0.000000  0.000000   \n",
      "A_Fish_Called_Wanda              0.430900  0.380515  0.339600  0.315140   \n",
      "...                                   ...       ...       ...       ...   \n",
      "Transformers__Age_of_Extinction  0.194545  0.263360  0.277255  0.236945   \n",
      "V_for_Vendetta                   0.050377  0.188080  0.216450  0.044345   \n",
      "Welcome_to_Me                    0.305915  0.333075  0.331180  0.331310   \n",
      "Wild_Tales                       0.307985  0.336685  0.345460  0.335810   \n",
      "Words_and_Pictures               0.273215  0.322700  0.308665  0.250250   \n",
      "\n",
      "                                      4         5         6         7    \\\n",
      "filename                                                                  \n",
      "American_Gangster                0.244890  0.278490  0.290760  0.293800   \n",
      "American_Pie                     0.193320  0.194700  0.285195  0.364725   \n",
      "Andaz_Apna_Apna                  0.101345  0.356065  0.365020  0.240020   \n",
      "Anna_Karenina                    0.000000  0.000000  0.000000  0.000000   \n",
      "A_Fish_Called_Wanda              0.415975  0.385915  0.329190  0.311815   \n",
      "...                                   ...       ...       ...       ...   \n",
      "Transformers__Age_of_Extinction  0.305880  0.331155  0.329430  0.323730   \n",
      "V_for_Vendetta                   0.134435  0.322280  0.391125  0.074241   \n",
      "Welcome_to_Me                    0.309510  0.334570  0.334865  0.343920   \n",
      "Wild_Tales                       0.319175  0.331685  0.337240  0.353590   \n",
      "Words_and_Pictures               0.312760  0.329600  0.330470  0.332020   \n",
      "\n",
      "                                      8         9    ...         816  \\\n",
      "filename                                             ...               \n",
      "American_Gangster                0.161040  0.166850  ...     232.170   \n",
      "American_Pie                     0.247015  0.266295  ...     409.925   \n",
      "Andaz_Apna_Apna                  0.101205  0.347940  ...   57506.500   \n",
      "Anna_Karenina                    0.000000  0.000000  ...  230400.000   \n",
      "A_Fish_Called_Wanda              0.349350  0.341625  ...     766.405   \n",
      "...                                   ...       ...  ...         ...   \n",
      "Transformers__Age_of_Extinction  0.306390  0.334910  ...    1116.600   \n",
      "V_for_Vendetta                   0.153620  0.252170  ...   23287.700   \n",
      "Welcome_to_Me                    0.171565  0.277275  ...     395.800   \n",
      "Wild_Tales                       0.124635  0.264115  ...     367.920   \n",
      "Words_and_Pictures               0.278980  0.242685  ...     788.225   \n",
      "\n",
      "                                        817        818        819        820  \\\n",
      "filename                                                                       \n",
      "American_Gangster                   109.620  17.237000  15.543000  13.671000   \n",
      "American_Pie                        116.590   1.457050   2.033850   1.652950   \n",
      "Andaz_Apna_Apna                   20067.000   9.723100  10.043500   7.611300   \n",
      "Anna_Karenina                    119950.000   0.000001   0.002466   0.000004   \n",
      "A_Fish_Called_Wanda                 363.245   8.584300   9.137700   8.404850   \n",
      "...                                     ...        ...        ...        ...   \n",
      "Transformers__Age_of_Extinction     669.115  15.438000  14.811500  14.938000   \n",
      "V_for_Vendetta                    10646.350   0.350045   0.425235   0.353340   \n",
      "Welcome_to_Me                       168.070  20.381500  21.288000  18.567500   \n",
      "Wild_Tales                          177.165  22.272000  22.161500  19.530500   \n",
      "Words_and_Pictures                  488.750  22.913500  19.923000  17.416000   \n",
      "\n",
      "                                       821        822        823         824  \\\n",
      "filename                                                                       \n",
      "American_Gangster                15.231000   53559.00    8637.40   18597.000   \n",
      "American_Pie                      2.119950    2682.15    1404.25    4461.750   \n",
      "Andaz_Apna_Apna                  11.144500   66401.50   27008.00   60450.000   \n",
      "Anna_Karenina                     0.002466  729320.00  119950.00  230400.000   \n",
      "A_Fish_Called_Wanda               8.790250    1484.35     417.93     893.045   \n",
      "...                                    ...        ...        ...         ...   \n",
      "Transformers__Age_of_Extinction  14.751000  210130.00   23993.50   48159.000   \n",
      "V_for_Vendetta                    0.426340   47983.00   10808.70   24776.400   \n",
      "Welcome_to_Me                    21.185500   82418.00   13693.00   32652.500   \n",
      "Wild_Tales                       21.988000   83342.00   14382.00   30243.000   \n",
      "Words_and_Pictures               19.742500  132275.00   19504.00   37120.500   \n",
      "\n",
      "                                       825  \n",
      "filename                                    \n",
      "American_Gangster                  8679.00  \n",
      "American_Pie                       1314.60  \n",
      "Andaz_Apna_Apna                   20450.00  \n",
      "Anna_Karenina                    119950.00  \n",
      "A_Fish_Called_Wanda                 435.75  \n",
      "...                                    ...  \n",
      "Transformers__Age_of_Extinction   24074.50  \n",
      "V_for_Vendetta                    11136.95  \n",
      "Welcome_to_Me                     13766.50  \n",
      "Wild_Tales                        14463.00  \n",
      "Words_and_Pictures                19438.50  \n",
      "\n",
      "[95 rows x 826 columns]\n"
     ],
     "output_type": "stream"
    }
   ],
   "source": [
    "import pandas as pd\n",
    "import numpy as np\n",
    "import os \n",
    "import re\n",
    "vis_daten=pd.DataFrame()\n",
    "names=[]\n",
    "for file in os.listdir(\"Dev_Set/vis_descriptors\"):\n",
    "    data=pd.read_csv(os.path.join(r\"Dev_Set/vis_descriptors\",file),header=None)\n",
    "    name=file.split('.')\n",
    "    name=name[0]\n",
    "    names.append(name)\n",
    "    data=data.mean(axis=0)\n",
    "    data=data.transpose()\n",
    "    vis_daten=vis_daten.append(data,ignore_index=True)\n",
    "vis_daten.insert(0,'filename',names)\n",
    "vis_daten.set_index('filename',inplace=True)\n",
    "print(vis_daten)\n",
    "\n"
   ],
   "metadata": {
    "collapsed": false,
    "pycharm": {
     "name": "#%%\n",
     "is_executing": false
    }
   }
  },
  {
   "cell_type": "code",
   "execution_count": 144,
   "outputs": [
    {
     "name": "stdout",
     "text": [
      "               0\n0          24000\n1           baby\n2       baseball\n3            big\n4            doc\n...          ...\n3278     younger\n3279     youngja\n3280       zebra\n3281   zellweger\n3282  zoologists\n\n[3283 rows x 1 columns]\n       0    1    2    3    4    5    6         7    8    9   ...   85   86  \\\n0     0.0  0.0  0.0  0.0  0.0  0.0  0.0  0.000000  0.0  0.0  ...  0.0  0.0   \n1     0.0  0.0  0.0  0.0  0.0  0.0  0.0  0.000000  0.0  0.0  ...  0.0  0.0   \n2     0.0  0.0  0.0  0.0  0.0  0.0  0.0  0.000000  0.0  0.0  ...  0.0  0.0   \n3     0.0  0.0  0.0  0.0  0.0  0.0  0.0  0.000000  0.0  0.0  ...  0.0  0.0   \n4     0.0  0.0  0.0  0.0  0.0  0.0  0.0  0.000000  0.0  0.0  ...  0.0  0.0   \n...   ...  ...  ...  ...  ...  ...  ...       ...  ...  ...  ...  ...  ...   \n3278  0.0  0.0  0.0  0.0  0.0  0.0  0.0  0.041679  0.0  0.0  ...  0.0  0.0   \n3279  0.0  0.0  0.0  0.0  0.0  0.0  0.0  0.000000  0.0  0.0  ...  0.0  0.0   \n3280  0.0  0.0  0.0  0.0  0.0  0.0  0.0  0.000000  0.0  0.0  ...  0.0  0.0   \n3281  0.0  0.0  0.0  0.0  0.0  0.0  0.0  0.000000  0.0  0.0  ...  0.0  0.0   \n3282  0.0  0.0  0.0  0.0  0.0  0.0  0.0  0.000000  0.0  0.0  ...  0.0  0.0   \n\n       87   88   89   90   91   92   93   94  \n0     0.0  0.0  0.0  0.0  0.0  0.0  0.0  0.0  \n1     0.0  0.0  0.0  0.0  0.0  0.0  0.0  0.0  \n2     0.0  0.0  0.0  0.0  0.0  0.0  0.0  0.0  \n3     0.0  0.0  0.0  0.0  0.0  0.0  0.0  0.0  \n4     0.0  0.0  0.0  0.0  0.0  0.0  0.0  0.0  \n...   ...  ...  ...  ...  ...  ...  ...  ...  \n3278  0.0  0.0  0.0  0.0  0.0  0.0  0.0  0.0  \n3279  0.0  0.0  0.0  0.0  0.0  0.0  0.0  0.0  \n3280  0.0  0.0  0.0  0.0  0.0  0.0  0.0  0.0  \n3281  0.0  0.0  0.0  0.0  0.0  0.0  0.0  0.0  \n3282  0.0  0.0  0.0  0.0  0.0  0.0  0.0  0.0  \n\n[3283 rows x 95 columns]\n             0    1    2    3    4    5    6         7    8    9   ...   85  \\\nwords                                                              ...        \n24000       0.0  0.0  0.0  0.0  0.0  0.0  0.0  0.000000  0.0  0.0  ...  0.0   \nbaby        0.0  0.0  0.0  0.0  0.0  0.0  0.0  0.000000  0.0  0.0  ...  0.0   \nbaseball    0.0  0.0  0.0  0.0  0.0  0.0  0.0  0.000000  0.0  0.0  ...  0.0   \nbig         0.0  0.0  0.0  0.0  0.0  0.0  0.0  0.000000  0.0  0.0  ...  0.0   \ndoc         0.0  0.0  0.0  0.0  0.0  0.0  0.0  0.000000  0.0  0.0  ...  0.0   \n...         ...  ...  ...  ...  ...  ...  ...       ...  ...  ...  ...  ...   \nyounger     0.0  0.0  0.0  0.0  0.0  0.0  0.0  0.041679  0.0  0.0  ...  0.0   \nyoungja     0.0  0.0  0.0  0.0  0.0  0.0  0.0  0.000000  0.0  0.0  ...  0.0   \nzebra       0.0  0.0  0.0  0.0  0.0  0.0  0.0  0.000000  0.0  0.0  ...  0.0   \nzellweger   0.0  0.0  0.0  0.0  0.0  0.0  0.0  0.000000  0.0  0.0  ...  0.0   \nzoologists  0.0  0.0  0.0  0.0  0.0  0.0  0.0  0.000000  0.0  0.0  ...  0.0   \n\n             86   87   88   89   90   91   92   93   94  \nwords                                                    \n24000       0.0  0.0  0.0  0.0  0.0  0.0  0.0  0.0  0.0  \nbaby        0.0  0.0  0.0  0.0  0.0  0.0  0.0  0.0  0.0  \nbaseball    0.0  0.0  0.0  0.0  0.0  0.0  0.0  0.0  0.0  \nbig         0.0  0.0  0.0  0.0  0.0  0.0  0.0  0.0  0.0  \ndoc         0.0  0.0  0.0  0.0  0.0  0.0  0.0  0.0  0.0  \n...         ...  ...  ...  ...  ...  ...  ...  ...  ...  \nyounger     0.0  0.0  0.0  0.0  0.0  0.0  0.0  0.0  0.0  \nyoungja     0.0  0.0  0.0  0.0  0.0  0.0  0.0  0.0  0.0  \nzebra       0.0  0.0  0.0  0.0  0.0  0.0  0.0  0.0  0.0  \nzellweger   0.0  0.0  0.0  0.0  0.0  0.0  0.0  0.0  0.0  \nzoologists  0.0  0.0  0.0  0.0  0.0  0.0  0.0  0.0  0.0  \n\n[3283 rows x 95 columns]\n            American_Gangster  American_Pie  Andaz_Apna_Apna  Anna_Karenina  \\\nwords                                                                         \n24000                     0.0           0.0              0.0            0.0   \nbaby                      0.0           0.0              0.0            0.0   \nbaseball                  0.0           0.0              0.0            0.0   \nbig                       0.0           0.0              0.0            0.0   \ndoc                       0.0           0.0              0.0            0.0   \n...                       ...           ...              ...            ...   \nyounger                   0.0           0.0              0.0            0.0   \nyoungja                   0.0           0.0              0.0            0.0   \nzebra                     0.0           0.0              0.0            0.0   \nzellweger                 0.0           0.0              0.0            0.0   \nzoologists                0.0           0.0              0.0            0.0   \n\n            A_Fish_Called_Wanda  A_Goofy_Movie  \\\nwords                                            \n24000                       0.0            0.0   \nbaby                        0.0            0.0   \nbaseball                    0.0            0.0   \nbig                         0.0            0.0   \ndoc                         0.0            0.0   \n...                         ...            ...   \nyounger                     0.0            0.0   \nyoungja                     0.0            0.0   \nzebra                       0.0            0.0   \nzellweger                   0.0            0.0   \nzoologists                  0.0            0.0   \n\n            A_Million_Ways_to_Die_in_the_West  A_Single_Man  Babar__The_Movie  \\\nwords                                                                           \n24000                                     0.0      0.000000               0.0   \nbaby                                      0.0      0.000000               0.0   \nbaseball                                  0.0      0.000000               0.0   \nbig                                       0.0      0.000000               0.0   \ndoc                                       0.0      0.000000               0.0   \n...                                       ...           ...               ...   \nyounger                                   0.0      0.041679               0.0   \nyoungja                                   0.0      0.000000               0.0   \nzebra                                     0.0      0.000000               0.0   \nzellweger                                 0.0      0.000000               0.0   \nzoologists                                0.0      0.000000               0.0   \n\n            Bhoothnath_Returns  ...  The_Reader  The_Reluctant_Dragon  \\\nwords                           ...                                     \n24000                      0.0  ...         0.0                   0.0   \nbaby                       0.0  ...         0.0                   0.0   \nbaseball                   0.0  ...         0.0                   0.0   \nbig                        0.0  ...         0.0                   0.0   \ndoc                        0.0  ...         0.0                   0.0   \n...                        ...  ...         ...                   ...   \nyounger                    0.0  ...         0.0                   0.0   \nyoungja                    0.0  ...         0.0                   0.0   \nzebra                      0.0  ...         0.0                   0.0   \nzellweger                  0.0  ...         0.0                   0.0   \nzoologists                 0.0  ...         0.0                   0.0   \n\n            The_Theory_of_Everything  This_Is_Where_I_Leave_You  Total_Recall  \\\nwords                                                                           \n24000                            0.0                        0.0           0.0   \nbaby                             0.0                        0.0           0.0   \nbaseball                         0.0                        0.0           0.0   \nbig                              0.0                        0.0           0.0   \ndoc                              0.0                        0.0           0.0   \n...                              ...                        ...           ...   \nyounger                          0.0                        0.0           0.0   \nyoungja                          0.0                        0.0           0.0   \nzebra                            0.0                        0.0           0.0   \nzellweger                        0.0                        0.0           0.0   \nzoologists                       0.0                        0.0           0.0   \n\n            Transformers__Age_of_Extinction  V_for_Vendetta  Welcome_to_Me  \\\nwords                                                                        \n24000                                   0.0             0.0            0.0   \nbaby                                    0.0             0.0            0.0   \nbaseball                                0.0             0.0            0.0   \nbig                                     0.0             0.0            0.0   \ndoc                                     0.0             0.0            0.0   \n...                                     ...             ...            ...   \nyounger                                 0.0             0.0            0.0   \nyoungja                                 0.0             0.0            0.0   \nzebra                                   0.0             0.0            0.0   \nzellweger                               0.0             0.0            0.0   \nzoologists                              0.0             0.0            0.0   \n\n            Wild_Tales  Words_and_Pictures  \nwords                                       \n24000              0.0                 0.0  \nbaby               0.0                 0.0  \nbaseball           0.0                 0.0  \nbig                0.0                 0.0  \ndoc                0.0                 0.0  \n...                ...                 ...  \nyounger            0.0                 0.0  \nyoungja            0.0                 0.0  \nzebra              0.0                 0.0  \nzellweger          0.0                 0.0  \nzoologists         0.0                 0.0  \n\n[3283 rows x 95 columns]\n"
     ],
     "output_type": "stream"
    }
   ],
   "source": [
    "import csv\n",
    "file_name_text=\"tdf_idf_dev.csv\"\n",
    "words=pd.read_csv(os.path.join(r\"text_descriptors\",file_name_text),nrows=1,header=None)\n",
    "words=words.transpose()\n",
    "print(words)\n",
    "data_text=pd.read_csv(os.path.join(r\"text_descriptors\",file_name_text),skiprows=1,header=None)\n",
    "print(data_text)\n",
    "data_text.insert(0,'words',words)\n",
    "data_text.set_index('words',inplace=True)\n",
    "print(data_text)\n",
    "data_text.columns=names\n",
    "print(data_text)\n",
    "gg=1\n",
    "\n"
   ],
   "metadata": {
    "collapsed": false,
    "pycharm": {
     "name": "#%%\n",
     "is_executing": false
    }
   }
  }
 ],
 "metadata": {
  "kernelspec": {
   "display_name": "Python 3",
   "language": "python",
   "name": "python3"
  },
  "language_info": {
   "codemirror_mode": {
    "name": "ipython",
    "version": 2
   },
   "file_extension": ".py",
   "mimetype": "text/x-python",
   "name": "python",
   "nbconvert_exporter": "python",
   "pygments_lexer": "ipython2",
   "version": "2.7.6"
  },
  "pycharm": {
   "stem_cell": {
    "cell_type": "raw",
    "source": [],
    "metadata": {
     "collapsed": false
    }
   }
  }
 },
 "nbformat": 4,
 "nbformat_minor": 0
}